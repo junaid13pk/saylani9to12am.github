{
 "cells": [
  {
   "cell_type": "markdown",
   "metadata": {},
   "source": [
    "# Part -1 Python Basics (Variables)"
   ]
  },
  {
   "cell_type": "markdown",
   "metadata": {},
   "source": [
    "1. Print Your Name with your Father name and Date of birth using suitable escape sequence charactor"
   ]
  },
  {
   "cell_type": "code",
   "execution_count": 1,
   "metadata": {},
   "outputs": [],
   "source": [
    "Junaid Ahmed, Mehboob Ahmed, 13th Feb, 1979"
   ]
  },
  {
   "cell_type": "markdown",
   "metadata": {},
   "source": [
    "2. Write your small bio using variables and print it using print function"
   ]
  },
  {
   "cell_type": "code",
   "execution_count": 4,
   "metadata": {},
   "outputs": [],
   "source": [
    "Name=\"Junaid Ahmed\"\n",
    "Date_of_Birth=\"13th February, 1979\"\n",
    "Occupation=\"Accountant\"\n",
    "Interest=[\"Sports\", \"Reading Books\", \"Saying Poetry\"]\n",
    "Bio=f\"Assalam-o-Alaikum, My Name is {Name}, My Date of Birth is {Date_of_Birth}, I am working as {Occupation} in a company, I love {', '.join(Interest)}.\""
   ]
  },
  {
   "cell_type": "code",
   "execution_count": 5,
   "metadata": {},
   "outputs": [
    {
     "name": "stdout",
     "output_type": "stream",
     "text": [
      "Assalam-o-Alaikum, My Name is Junaid Ahmed, My Date of Birth is 13th February, 1979, I am working as Accountant in a company, I love Sports, Reading Books, Saying Poetry.\n"
     ]
    }
   ],
   "source": [
    "print(Bio)"
   ]
  },
  {
   "cell_type": "markdown",
   "metadata": {},
   "source": [
    "3. Write a program in which use all the operators we can use in Python"
   ]
  },
  {
   "cell_type": "code",
   "execution_count": 32,
   "metadata": {
    "scrolled": true
   },
   "outputs": [
    {
     "name": "stdout",
     "output_type": "stream",
     "text": [
      "Arithmatic Operators:\n",
      "a+b= 16\n",
      "a-b= 4\n",
      "a*b= 60\n",
      "a/b= 1.6666666666666667\n",
      "a//b= 1\n",
      "a%b= 4\n",
      "a**b= 1000000\n"
     ]
    }
   ],
   "source": [
    "a=10\n",
    "b=6\n",
    "print(\"Arithmatic Operators:\")\n",
    "print(\"a+b=\",a+b)   #Addition\n",
    "print(\"a-b=\",a-b)   #Substraction\n",
    "print(\"a*b=\",a*b)   #Multiplication\n",
    "print(\"a/b=\",a/b)   #Division\n",
    "print(\"a//b=\",a//b) #Floor Division\n",
    "print(\"a%b=\",a%b)   #Modulus\n",
    "print(\"a**b=\",a**b) #Exponentiation\n"
   ]
  },
  {
   "cell_type": "code",
   "execution_count": 37,
   "metadata": {},
   "outputs": [
    {
     "name": "stdout",
     "output_type": "stream",
     "text": [
      "Comparison Operators:\n",
      "a==b is False\n",
      "a!=b is True\n",
      "a>b is True\n",
      "a<b is False\n",
      "a>=b is True\n",
      "a<=b is False\n"
     ]
    }
   ],
   "source": [
    "a=10\n",
    "b=6\n",
    "print(\"Comparison Operators:\")\n",
    "print(\"a==b is\",a==b)   #Equals to \n",
    "print(\"a!=b is\",a!=b)   #Not Equals to \n",
    "print(\"a>b is\",a>b)     #Greater than\n",
    "print(\"a<b is\",a<b)     #Less than \n",
    "print(\"a>=b is\",a>=b)   #Greater than or equals to \n",
    "print(\"a<=b is\",a<=b)   #Less than ot equals to "
   ]
  },
  {
   "cell_type": "code",
   "execution_count": 38,
   "metadata": {},
   "outputs": [
    {
     "name": "stdout",
     "output_type": "stream",
     "text": [
      "Logical Operators\n",
      "x and y is False\n",
      "x or y is True\n",
      "not X is False\n"
     ]
    }
   ],
   "source": [
    "x=True\n",
    "y=False\n",
    "print(\"Logical Operators\")    \n",
    "print(\"x and y is\",x and y)    #Logical and\n",
    "print(\"x or y is\",x or y)      #Logical or\n",
    "print(\"not X is\",not x)        #Logical not"
   ]
  },
  {
   "cell_type": "code",
   "execution_count": 40,
   "metadata": {},
   "outputs": [
    {
     "name": "stdout",
     "output_type": "stream",
     "text": [
      "Assignment Operators\n",
      "c+=3 gives c= 8\n",
      "c-=2 gives c= 6\n",
      "c*=4 gives c= 24\n",
      "c/=2 gives c= 12.0\n",
      "c%=5 gives c= 2.0\n",
      "c//3 gives c= 2.0\n",
      "c**2 gives c= 4.0\n"
     ]
    }
   ],
   "source": [
    "print(\"Assignment Operators\")\n",
    "c=5\n",
    "c+=3    #c=c+3\n",
    "print(\"c+=3 gives c=\",c)\n",
    "c-=2    #c=c-2\n",
    "print(\"c-=2 gives c=\",c)\n",
    "c*=4    #c=c*4\n",
    "print(\"c*=4 gives c=\",c)\n",
    "c/=2    #c=c/2\n",
    "print(\"c/=2 gives c=\",c)\n",
    "c%=5    #c=c/5\n",
    "print(\"c%=5 gives c=\",c)\n",
    "c//3    #c=c//3\n",
    "print(\"c//3 gives c=\",c)\n",
    "c**=2    #c=c**2\n",
    "print(\"c**2 gives c=\",c)"
   ]
  },
  {
   "cell_type": "markdown",
   "metadata": {},
   "source": [
    "4. Completes the following steps of small task:\n",
    "    - Mention Marks of English , Islamiat and Maths out of 100 in 3 different variables\n",
    "    - Mention Variable of Total Marks and assign 300 to it\n",
    "    - Calculate Percentage"
   ]
  },
  {
   "cell_type": "code",
   "execution_count": 25,
   "metadata": {},
   "outputs": [],
   "source": [
    "import math\n",
    "English_Marks=84\n",
    "Islamiat_Marks=80\n",
    "Maths_Marks=96\n",
    "Total_Marks=300\n",
    "Percentage=(English_Marks+Islamiat_Marks+Maths_Marks)/Total_Marks*100\n",
    "Rounded_Percentage=math.ceil(Percentage)"
   ]
  },
  {
   "cell_type": "code",
   "execution_count": 26,
   "metadata": {},
   "outputs": [
    {
     "name": "stdout",
     "output_type": "stream",
     "text": [
      "The Rounded_Percentage is:87%\n"
     ]
    }
   ],
   "source": [
    "print(f\"The Rounded_Percentage is:{Rounded_Percentage}%\")"
   ]
  },
  {
   "cell_type": "markdown",
   "metadata": {},
   "source": [
    "# Part -2 Python Basics (Conditional Statements)"
   ]
  },
  {
   "cell_type": "markdown",
   "metadata": {},
   "source": [
    "1) A company decided to give bonus of 5% to employee if his/her year of service is more than 5 years.\n",
    "Ask user for their salary and year of service and print the net bonus amount."
   ]
  },
  {
   "cell_type": "code",
   "execution_count": 27,
   "metadata": {},
   "outputs": [
    {
     "name": "stdin",
     "output_type": "stream",
     "text": [
      "Enter the Salary:  10000\n",
      "Enter the Number of Years of Service:  6\n"
     ]
    },
    {
     "name": "stdout",
     "output_type": "stream",
     "text": [
      "Congratulations! You are eligible for a 5% Bonus.\n",
      "Net Bonus Amount: Rs.500.00\n"
     ]
    }
   ],
   "source": [
    "Salary=float(input(\"Enter the Salary: \"))\n",
    "Years_of_Service=int(input(\"Enter the Number of Years of Service: \")) \n",
    "if Years_of_Service>5:\n",
    "   Bonus_Percent=5\n",
    "   Bonus_Amount=Salary*(Bonus_Percent/100) \n",
    "   print(f\"Congratulations! You are eligible for a {Bonus_Percent}% Bonus.\")\n",
    "   print(f\"Net Bonus Amount: Rs.{Bonus_Amount:.2f}\")\n",
    "\n",
    "else:\n",
    "    print(\"Sorry, You are not eligible for a Bonus.\")"
   ]
  },
  {
   "cell_type": "markdown",
   "metadata": {},
   "source": [
    "\n",
    "2) Write a program to check whether a person is eligible for voting or not. (accept age from user) if age is greater than 17 eligible otherwise not eligible"
   ]
  },
  {
   "cell_type": "code",
   "execution_count": 31,
   "metadata": {},
   "outputs": [
    {
     "name": "stdin",
     "output_type": "stream",
     "text": [
      "Enter your Age:  21\n"
     ]
    },
    {
     "name": "stdout",
     "output_type": "stream",
     "text": [
      "You are eligible to Vote.\n"
     ]
    }
   ],
   "source": [
    "def Check_Voter_Eligibility():\n",
    "    Age=int(input(\"Enter your Age: \"))\n",
    "    if Age>17:\n",
    "       print(\"You are eligible to Vote.\")\n",
    "    \n",
    "    else:\n",
    "       print(\"Sorry, You are not eligible to Vote.\")\n",
    "\n",
    "Check_Voter_Eligibility()"
   ]
  },
  {
   "cell_type": "markdown",
   "metadata": {},
   "source": [
    "\n",
    "3) Write a program to check whether a number entered by user is even or odd."
   ]
  },
  {
   "cell_type": "code",
   "execution_count": 42,
   "metadata": {
    "scrolled": true
   },
   "outputs": [
    {
     "name": "stdin",
     "output_type": "stream",
     "text": [
      "Enter your Number:  6\n"
     ]
    },
    {
     "name": "stdout",
     "output_type": "stream",
     "text": [
      "6 is even.\n"
     ]
    }
   ],
   "source": [
    "num=int(input(\"Enter your Number: \"))\n",
    "if num%2==0:\n",
    "    print(f\"{num} is even.\")\n",
    "else:\n",
    "    print(f\"{num} is odd.\")"
   ]
  },
  {
   "cell_type": "markdown",
   "metadata": {},
   "source": [
    "4) Write a program to check whether a number is divisible by 7 or not.\n",
    "Show Answer"
   ]
  },
  {
   "cell_type": "code",
   "execution_count": 49,
   "metadata": {},
   "outputs": [
    {
     "name": "stdin",
     "output_type": "stream",
     "text": [
      "Enter your Number:  63\n"
     ]
    },
    {
     "name": "stdout",
     "output_type": "stream",
     "text": [
      "63 is divisible by 7.\n"
     ]
    }
   ],
   "source": [
    "num=int(input(\"Enter your Number: \"))\n",
    "if num%7==0:\n",
    "    print(f\"{num} is divisible by 7.\")\n",
    "else:\n",
    "    print(f\"{num} is not divisible by 7.\")"
   ]
  },
  {
   "cell_type": "markdown",
   "metadata": {},
   "source": [
    "5) Write a program to display \n",
    "\"Hello\" if a number entered by user is a multiple of five , otherwise print \"Bye\"."
   ]
  },
  {
   "cell_type": "code",
   "execution_count": 50,
   "metadata": {},
   "outputs": [
    {
     "name": "stdin",
     "output_type": "stream",
     "text": [
      "Enter your Number:  180\n"
     ]
    },
    {
     "name": "stdout",
     "output_type": "stream",
     "text": [
      "Hello\n"
     ]
    }
   ],
   "source": [
    "num=int(input(\"Enter your Number: \"))\n",
    "if num%5==0:\n",
    "    print(\"Hello\")\n",
    "else:\n",
    "    print(\"Bye\")"
   ]
  },
  {
   "cell_type": "markdown",
   "metadata": {},
   "source": [
    "7) Write a program to display the last digit of a number.\n"
   ]
  },
  {
   "cell_type": "code",
   "execution_count": 1,
   "metadata": {},
   "outputs": [
    {
     "name": "stdin",
     "output_type": "stream",
     "text": [
      "Enter your Number:  5634\n"
     ]
    },
    {
     "name": "stdout",
     "output_type": "stream",
     "text": [
      "4\n"
     ]
    }
   ],
   "source": [
    "Number=int(input(\"Enter your Number: \"))\n",
    "last_digit=(Number)%10\n",
    "print(last_digit)"
   ]
  },
  {
   "cell_type": "markdown",
   "metadata": {},
   "source": [
    "9) Take values of length and breadth of a rectangle from user and print if it is square or rectangle."
   ]
  },
  {
   "cell_type": "code",
   "execution_count": 4,
   "metadata": {},
   "outputs": [
    {
     "name": "stdin",
     "output_type": "stream",
     "text": [
      "Enter the length of the rectangle:  3\n",
      "Enter the breadth of the rectangle:  6\n"
     ]
    },
    {
     "name": "stdout",
     "output_type": "stream",
     "text": [
      "It is a rectangle.\n"
     ]
    }
   ],
   "source": [
    "length=float(input(\"Enter the length of the rectangle: \"))\n",
    "breadth=float(input(\"Enter the breadth of the rectangle: \"))\n",
    "if length==breadth:\n",
    "   print(\"It is a square.\")\n",
    "else:\n",
    "   print(\"It is a rectangle.\")"
   ]
  },
  {
   "cell_type": "markdown",
   "metadata": {},
   "source": [
    "10) Take two int values from user and print greatest among them."
   ]
  },
  {
   "cell_type": "code",
   "execution_count": 6,
   "metadata": {},
   "outputs": [
    {
     "name": "stdin",
     "output_type": "stream",
     "text": [
      "Enter your First Integer:  65\n",
      "Enter your Second Integer:  64\n"
     ]
    },
    {
     "name": "stdout",
     "output_type": "stream",
     "text": [
      "The greatest Number is: 65\n"
     ]
    }
   ],
   "source": [
    "number_1=int(input(\"Enter your First Integer: \"))\n",
    "number_2=int(input(\"Enter your Second Integer: \"))\n",
    "if number_1>number_2:\n",
    "    greatest=number_1\n",
    "else:\n",
    "    greatest=number_2\n",
    "print(\"The greatest Number is:\",greatest)"
   ]
  },
  {
   "cell_type": "markdown",
   "metadata": {},
   "source": [
    "11) A shop will give discount of 10% if the cost of purchased quantity is more than 1000.\n",
    "Ask user for quantity\n",
    "Suppose, one unit will cost 100.\n",
    "Judge and print total cost for user."
   ]
  },
  {
   "cell_type": "code",
   "execution_count": 2,
   "metadata": {},
   "outputs": [
    {
     "name": "stdin",
     "output_type": "stream",
     "text": [
      "Enter the quantity:  125\n"
     ]
    },
    {
     "name": "stdout",
     "output_type": "stream",
     "text": [
      "Total cost: 11250.00\n"
     ]
    }
   ],
   "source": [
    "quantity=int(input(\"Enter the quantity: \"))\n",
    "unit_cost=100 #cost per unit purchased\n",
    "total_cost=quantity*unit_cost\n",
    "if total_cost>1000:\n",
    "    discount=0.1*total_cost\n",
    "    total_cost-=discount\n",
    "print(f\"Total cost: {total_cost:.2f}\")"
   ]
  },
  {
   "cell_type": "markdown",
   "metadata": {},
   "source": [
    "12) A school has following rules for grading system:\n",
    "\n",
    "a. Below 25 - F\n",
    "\n",
    "b. 25 to 45 - E\n",
    "\n",
    "c. 45 to 50 - D\n",
    "\n",
    "d. 50 to 60 - C\n",
    "\n",
    "e. 60 to 80 - B\n",
    "\n",
    "f. Above 80 - A\n",
    "\n",
    "Ask user to enter marks and print the corresponding grade."
   ]
  },
  {
   "cell_type": "code",
   "execution_count": 1,
   "metadata": {},
   "outputs": [
    {
     "name": "stdin",
     "output_type": "stream",
     "text": [
      "Enter your Marks:  23.5\n"
     ]
    },
    {
     "name": "stdout",
     "output_type": "stream",
     "text": [
      "You are Fail\n"
     ]
    }
   ],
   "source": [
    "marks=float(input(\"Enter your Marks: \"))\n",
    "if marks < 25:\n",
    "    print(\"You are Fail\")\n",
    "elif marks >= 25 and marks<=45:\n",
    "    print(\"Your grades is E\")\n",
    "elif marks > 45 and marks<=50:\n",
    "    print(\"Your grades is D\")\n",
    "elif marks > 50 and marks<=60:\n",
    "    print(\"Your grades is C\")\n",
    "elif marks > 60 and marks<=80:\n",
    "    print(\"Your grades is B\")\n",
    "elif marks > 80:\n",
    "    print(\"Your grades is A\")\n",
    "else:\n",
    "    print(\"Invalid Marks\")"
   ]
  },
  {
   "cell_type": "markdown",
   "metadata": {},
   "source": [
    "14)A student will not be allowed to sit in exam if his/her attendence is less than 75%.\n",
    "\n",
    "Take following input from user\n",
    "\n",
    "- Number of classes held\n",
    "\n",
    "- Number of classes attended.\n",
    "\n",
    "And print\n",
    "\n",
    "- percentage of class attended\n",
    "\n",
    "- Is student is allowed to sit in exam or not.\n"
   ]
  },
  {
   "cell_type": "code",
   "execution_count": 9,
   "metadata": {},
   "outputs": [
    {
     "name": "stdin",
     "output_type": "stream",
     "text": [
      "Enter the Number of Classes held:  300\n",
      "Enter the Number of Classes attended:  205\n"
     ]
    },
    {
     "name": "stdout",
     "output_type": "stream",
     "text": [
      "Attendance Percentage: 68.33%\n",
      "You are not allowed to sit in Exam.\n"
     ]
    }
   ],
   "source": [
    "classes_held=int(input(\"Enter the Number of Classes held: \"))\n",
    "classes_attended=int(input(\"Enter the Number of Classes attended: \"))\n",
    "attendance_percentage=(classes_attended/classes_held)*100\n",
    "print(f\"Attendance Percentage: {attendance_percentage:.2f}%\")\n",
    "if attendance_percentage>=75:\n",
    "    print(\"You are allowed to sit in Exam.\")\n",
    "else:\n",
    "    print(\"You are not allowed to sit in Exam.\")"
   ]
  },
  {
   "cell_type": "markdown",
   "metadata": {},
   "source": [
    "15) Modify the above question to allow student to sit if he/she has medical cause. Ask user if he/she has medical cause or not ( 'Y' or 'N' ) and print accordingly."
   ]
  },
  {
   "cell_type": "code",
   "execution_count": 3,
   "metadata": {},
   "outputs": [
    {
     "name": "stdin",
     "output_type": "stream",
     "text": [
      "Enter the Number of Classes held:  300\n",
      "Enter the Number of Classes attended:  165\n",
      "Do you have a medical cause for your low attendance? (Yes/No):  No\n"
     ]
    },
    {
     "name": "stdout",
     "output_type": "stream",
     "text": [
      "You are not allowed to sit in Exam due to low attendance.\n"
     ]
    }
   ],
   "source": [
    "classes_held=int(input(\"Enter the Number of Classes held: \"))\n",
    "classes_attended=int(input(\"Enter the Number of Classes attended: \"))\n",
    "attendance_percentage=(classes_attended/classes_held)*100\n",
    "if attendance_percentage>=75:\n",
    "    print(f\"Attendance Percentage: {attendance_percentage:.2f}%\")\n",
    "    print(\"You are allowed to sit in Exam.\")\n",
    "else:\n",
    "    medical_reason=input(\"Do you have a medical cause for your low attendance? (Yes/No): \").lower()\n",
    "    if medical_reason=='yes':                         \n",
    "        print(\"You are allowed to sit in Exam despite low attendance due to medical reasons.\")\n",
    "    else:\n",
    "        print(\"You are not allowed to sit in Exam due to low attendance.\")"
   ]
  },
  {
   "cell_type": "markdown",
   "metadata": {},
   "source": [
    "16) Write a program to check if a year is leap year or not.\n",
    "\n",
    "If a year is divisible by 4 then it is leap year but if the year is century year like 2000, 1900, 2100 then it must be divisible by 400."
   ]
  },
  {
   "cell_type": "code",
   "execution_count": 12,
   "metadata": {},
   "outputs": [
    {
     "name": "stdout",
     "output_type": "stream",
     "text": [
      "2000 is a Leap Year.\n",
      "1900 is not a Leap Year.\n",
      "2100 is not a Leap Year.\n"
     ]
    }
   ],
   "source": [
    "def is_leap_year(year):\n",
    "    if(year % 4==0 and year % 100!=0) or (year % 400==0):\n",
    "        return True\n",
    "    else:\n",
    "        return False\n",
    "years_to_check=[2000,1900,2100]\n",
    "for year in years_to_check:\n",
    "        if is_leap_year(year):\n",
    "             print(f\"{year} is a Leap Year.\")\n",
    "        else:\n",
    "             print(f\"{year} is not a Leap Year.\")"
   ]
  },
  {
   "cell_type": "markdown",
   "metadata": {},
   "source": [
    "17) Ask user to enter age, gender ( M or F ), marital status ( Y or N ) and then using following rules print their place of service.\n",
    "\n",
    "if employee is female, then she will work only in urban areas.\n",
    "\n",
    "if employee is a male and age is in between 20 to 40 then he may work in anywhere\n",
    "\n",
    "if employee is male and age is in between 40 t0 60 then he will work in urban areas only.\n",
    "\n",
    "And any other input of age should print \"ERROR\""
   ]
  },
  {
   "cell_type": "code",
   "execution_count": 22,
   "metadata": {},
   "outputs": [
    {
     "name": "stdin",
     "output_type": "stream",
     "text": [
      "Enter your Age:  27\n",
      "Enter your Gender (M or F):  m\n",
      "Enter Marital Status (Y or N):  y\n"
     ]
    },
    {
     "name": "stdout",
     "output_type": "stream",
     "text": [
      "Place of Service: Anywhere\n"
     ]
    }
   ],
   "source": [
    "age=int(input(\"Enter your Age: \"))\n",
    "gender=input(\"Enter your Gender (M or F): \").upper()\n",
    "marital_status=input(\"Enter Marital Status (Y or N): \").upper()\n",
    "if gender=='F':\n",
    "    print(\"Place of Service: Urban Areas\")\n",
    "elif gender=='M':\n",
    "    if age >=20 and age<=40:\n",
    "        print(\"Place of Service: Anywhere\")\n",
    "    elif age >40 and age<=60:\n",
    "        print(\"Place of Service: Urban Areas\")\n",
    "    else:\n",
    "        print(\"ERROR: Age criteria not met\")\n",
    "else:\n",
    "    print(\"ERROR: Invalid gender input\")"
   ]
  },
  {
   "cell_type": "markdown",
   "metadata": {},
   "source": [
    "6) Write a program to calculate the electricity bill (accept number of unit from user) according to the following criteria :\n",
    "     Unit                                                     Price  \n",
    "uptp 100 units                                             no charge\n",
    "Next 200 units                                              Rs 5 per unit\n",
    "After 200 units                                             Rs 10 per unit\n",
    "(For example if input unit is 350 than total bill amount is Rs.3500\n",
    "(For example if input unit is 97 than total bill amount is Rs.0\n",
    "(For example if input unit is 150 than total bill amount is Rs.750"
   ]
  },
  {
   "cell_type": "code",
   "execution_count": 29,
   "metadata": {},
   "outputs": [
    {
     "name": "stdin",
     "output_type": "stream",
     "text": [
      "Enter the number of units consumed:  150\n"
     ]
    },
    {
     "name": "stdout",
     "output_type": "stream",
     "text": [
      "Total Bill Amount: Rs. 250\n"
     ]
    }
   ],
   "source": [
    "def calculate_electricity_bill(units):\n",
    "    if units <=100:\n",
    "        bill_amount=0\n",
    "    elif units <=300:\n",
    "        bill_amount=(units-100)*5\n",
    "    else:\n",
    "        bill_amount=200*5+(units-300)*10\n",
    "    return bill_amount\n",
    "units=int(input(\"Enter the number of units consumed: \"))\n",
    "total_bill=calculate_electricity_bill(units)\n",
    "print(f\"Total Bill Amount: Rs. {total_bill}\")"
   ]
  },
  {
   "cell_type": "markdown",
   "metadata": {},
   "source": [
    "13) Take input of age of 3 people by user and determine oldest and youngest among them."
   ]
  },
  {
   "cell_type": "code",
   "execution_count": 31,
   "metadata": {},
   "outputs": [
    {
     "name": "stdin",
     "output_type": "stream",
     "text": [
      "Enter age of Person 1:  75\n",
      "Enter age of Person 2:  53\n",
      "Enter age of Person 3:  81\n"
     ]
    },
    {
     "name": "stdout",
     "output_type": "stream",
     "text": [
      "The Oldest person is 81 years old.\n",
      "The Youngest person is 53 years old.\n"
     ]
    }
   ],
   "source": [
    "age1=int(input(\"Enter age of Person 1: \"))\n",
    "age2=int(input(\"Enter age of Person 2: \"))\n",
    "age3=int(input(\"Enter age of Person 3: \"))\n",
    "oldest=max(age1,age2,age3)\n",
    "youngest=min(age1,age2,age3)\n",
    "print(f\"The Oldest person is {oldest} years old.\")\n",
    "print(f\"The Youngest person is {youngest} years old.\")\n"
   ]
  },
  {
   "cell_type": "code",
   "execution_count": null,
   "metadata": {},
   "outputs": [],
   "source": []
  }
 ],
 "metadata": {
  "kernelspec": {
   "display_name": "Python 3 (ipykernel)",
   "language": "python",
   "name": "python3"
  },
  "language_info": {
   "codemirror_mode": {
    "name": "ipython",
    "version": 3
   },
   "file_extension": ".py",
   "mimetype": "text/x-python",
   "name": "python",
   "nbconvert_exporter": "python",
   "pygments_lexer": "ipython3",
   "version": "3.11.7"
  }
 },
 "nbformat": 4,
 "nbformat_minor": 4
}
